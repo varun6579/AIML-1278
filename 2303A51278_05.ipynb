{
  "nbformat": 4,
  "nbformat_minor": 0,
  "metadata": {
    "colab": {
      "provenance": [],
      "authorship_tag": "ABX9TyOq7usnKJAr/ScebGL5wxqz",
      "include_colab_link": true
    },
    "kernelspec": {
      "name": "python3",
      "display_name": "Python 3"
    },
    "language_info": {
      "name": "python"
    }
  },
  "cells": [
    {
      "cell_type": "markdown",
      "metadata": {
        "id": "view-in-github",
        "colab_type": "text"
      },
      "source": [
        "<a href=\"https://colab.research.google.com/github/varun6579/AIML-1278/blob/main/2303A51278_05.ipynb\" target=\"_parent\"><img src=\"https://colab.research.google.com/assets/colab-badge.svg\" alt=\"Open In Colab\"/></a>"
      ]
    },
    {
      "cell_type": "markdown",
      "source": [
        "# **6.National Poll on Health Aging**\n",
        "\n",
        "**Prediction of National Poll on health Aging**\n",
        "\n",
        "**Q1.Identify the top 5 reasons for health aging?**\n",
        "\n",
        "**Q2. Name the community which has highest aging issues?**\n",
        "\n",
        "**Q3. Identify the gender which has the most aging and least aging issues**\n",
        "\n",
        "**Q4.Does Age, employment and mental stress contribute to health aging?**\n",
        "\n",
        "**Q5. Name the category which visited most number of doctors?**"
      ],
      "metadata": {
        "id": "6q5sPdfHn-v0"
      }
    },
    {
      "cell_type": "code",
      "execution_count": null,
      "metadata": {
        "colab": {
          "base_uri": "https://localhost:8080/"
        },
        "id": "AqXvHQhwlHTy",
        "outputId": "63c1eda6-b4ee-4003-b764-7e4b452b7279"
      },
      "outputs": [
        {
          "output_type": "stream",
          "name": "stdout",
          "text": [
            "Requirement already satisfied: ucimlrepo in /usr/local/lib/python3.10/dist-packages (0.0.7)\n",
            "Requirement already satisfied: pandas>=1.0.0 in /usr/local/lib/python3.10/dist-packages (from ucimlrepo) (2.2.2)\n",
            "Requirement already satisfied: certifi>=2020.12.5 in /usr/local/lib/python3.10/dist-packages (from ucimlrepo) (2024.8.30)\n",
            "Requirement already satisfied: numpy>=1.22.4 in /usr/local/lib/python3.10/dist-packages (from pandas>=1.0.0->ucimlrepo) (1.26.4)\n",
            "Requirement already satisfied: python-dateutil>=2.8.2 in /usr/local/lib/python3.10/dist-packages (from pandas>=1.0.0->ucimlrepo) (2.8.2)\n",
            "Requirement already satisfied: pytz>=2020.1 in /usr/local/lib/python3.10/dist-packages (from pandas>=1.0.0->ucimlrepo) (2024.2)\n",
            "Requirement already satisfied: tzdata>=2022.7 in /usr/local/lib/python3.10/dist-packages (from pandas>=1.0.0->ucimlrepo) (2024.2)\n",
            "Requirement already satisfied: six>=1.5 in /usr/local/lib/python3.10/dist-packages (from python-dateutil>=2.8.2->pandas>=1.0.0->ucimlrepo) (1.16.0)\n"
          ]
        }
      ],
      "source": [
        "pip install ucimlrepo"
      ]
    },
    {
      "cell_type": "code",
      "source": [
        "from ucimlrepo import fetch_ucirepo\n",
        "\n",
        "# fetch dataset\n",
        "national_poll_on_healthy_aging_npha = fetch_ucirepo(id=936)\n",
        "\n",
        "# data (as pandas dataframes)\n",
        "X = national_poll_on_healthy_aging_npha.data.features\n",
        "y = national_poll_on_healthy_aging_npha.data.targets\n",
        "\n",
        "# metadata\n",
        "print(national_poll_on_healthy_aging_npha.metadata)\n",
        "\n",
        "# variable information\n",
        "print(national_poll_on_healthy_aging_npha.variables)\n"
      ],
      "metadata": {
        "colab": {
          "base_uri": "https://localhost:8080/"
        },
        "id": "-bAl-CoIlJnU",
        "outputId": "8f7599f4-955f-45f4-f375-09301bbf2522"
      },
      "execution_count": null,
      "outputs": [
        {
          "output_type": "stream",
          "name": "stdout",
          "text": [
            "{'uci_id': 936, 'name': 'National Poll on Healthy Aging (NPHA)', 'repository_url': 'https://archive.ics.uci.edu/dataset/936/national+poll+on+healthy+aging+(npha)', 'data_url': 'https://archive.ics.uci.edu/static/public/936/data.csv', 'abstract': 'This is a subset of the NPHA dataset filtered down to develop and validate machine learning algorithms for predicting the number of doctors a survey respondent sees in a year. This dataset’s records represent seniors who responded to the NPHA survey.\\n', 'area': 'Health and Medicine', 'tasks': ['Classification'], 'characteristics': ['Tabular'], 'num_instances': 714, 'num_features': 14, 'feature_types': ['Categorical'], 'demographics': ['Age', 'Race', 'Gender'], 'target_col': ['Number_of_Doctors_Visited'], 'index_col': None, 'has_missing_values': 'no', 'missing_values_symbol': None, 'year_of_dataset_creation': 2017, 'last_updated': 'Mon Dec 11 2023', 'dataset_doi': 'https://doi.org/10.3886/ICPSR37305.v1', 'creators': [], 'intro_paper': {'ID': 352, 'type': 'NATIVE', 'title': 'National Poll on Healthy Aging (NPHA)', 'authors': 'Malani, Preeti N., Kullgren, Jeffrey, and Solway, Erica', 'venue': 'Inter-university Consortium for Political and Social Research', 'year': 2017, 'journal': None, 'DOI': None, 'URL': 'https://doi.org/10.3886/ICPSR37305.v1', 'sha': None, 'corpus': None, 'arxiv': None, 'mag': None, 'acl': None, 'pmid': None, 'pmcid': None}, 'additional_info': {'summary': None, 'purpose': 'The National Poll on Healthy Aging dataset was created to gather insights on the health, healthcare, and health policy issues affecting Americans aged 50 and older. By focusing on the perspectives of older adults and their caregivers, the University of Michigan aimed to inform the public, healthcare providers, policymakers, and advocates about the various aspects of aging. This includes topics like health insurance, household composition, sleep issues, dental care, prescription medications, and caregiving, thereby providing a comprehensive understanding of the health-related needs and concerns of the older population.', 'funded_by': \"The dataset was funded by AARP and Michigan Medicine, the University of Michigan's academic medical centre.\", 'instances_represent': 'Each row represents a survey respondent.\\n', 'recommended_data_splits': None, 'sensitive_data': 'Yes. There is information about race/ethnicity, gender, age.', 'preprocessing_description': 'For this subset of the original NPHA dataset we chose 14 features related to health and sleep to use for the prediction task. We then removed all survey respondents with missing responses for any of the chosen features.', 'variable_info': None, 'citation': 'Malani, Preeti N., Kullgren, Jeffrey, and Solway, Erica. National Poll on Healthy Aging (NPHA), [United States], April 2017. Inter-university Consortium for Political and Social Research [distributor], 2019-05-29. https://doi.org/10.3886/ICPSR37305.v1'}}\n",
            "                                          name     role         type  \\\n",
            "0                    Number_of_Doctors_Visited   Target  Categorical   \n",
            "1                                          Age  Feature  Categorical   \n",
            "2                              Physical_Health  Feature  Categorical   \n",
            "3                                Mental_Health  Feature  Categorical   \n",
            "4                                Dental_Health  Feature  Categorical   \n",
            "5                                   Employment  Feature  Categorical   \n",
            "6           Stress_Keeps_Patient_from_Sleeping  Feature  Categorical   \n",
            "7       Medication_Keeps_Patient_from_Sleeping  Feature  Categorical   \n",
            "8             Pain_Keeps_Patient_from_Sleeping  Feature  Categorical   \n",
            "9   Bathroom_Needs_Keeps_Patient_from_Sleeping  Feature  Categorical   \n",
            "10          Uknown_Keeps_Patient_from_Sleeping  Feature  Categorical   \n",
            "11                            Trouble_Sleeping  Feature  Categorical   \n",
            "12               Prescription_Sleep_Medication  Feature  Categorical   \n",
            "13                                        Race  Feature  Categorical   \n",
            "14                                      Gender  Feature  Categorical   \n",
            "\n",
            "   demographic                                        description units  \\\n",
            "0         None  The total count of different doctors the patie...  None   \n",
            "1          Age  The patient's age group = {\\n 1: 50-64\\n 2: 65...  None   \n",
            "2         None  A self-assessment of the patient's physical we...  None   \n",
            "3         None  A self-evaluation of the patient's mental or p...  None   \n",
            "4         None  A self-assessment of the patient's oral or den...  None   \n",
            "5         None  The patient's employment status or work-relate...  None   \n",
            "6         None  Whether stress affects the patient's ability t...  None   \n",
            "7         None  Whether medication impacts the patient's sleep...  None   \n",
            "8         None  Whether physical pain disturbs the patient's s...  None   \n",
            "9         None  Whether the need to use the bathroom affects t...  None   \n",
            "10        None  Unidentified factors affecting the patient's s...  None   \n",
            "11        None  General issues or difficulties the patient fac...  None   \n",
            "12        None  Information about any sleep medication prescri...  None   \n",
            "13        Race  The patient's racial or ethnic background = {\\...  None   \n",
            "14      Gender  The gender identity of the patient = {\\n -2: N...  None   \n",
            "\n",
            "   missing_values  \n",
            "0              no  \n",
            "1              no  \n",
            "2              no  \n",
            "3              no  \n",
            "4              no  \n",
            "5              no  \n",
            "6              no  \n",
            "7              no  \n",
            "8              no  \n",
            "9              no  \n",
            "10             no  \n",
            "11             no  \n",
            "12             no  \n",
            "13             no  \n",
            "14             no  \n"
          ]
        }
      ]
    },
    {
      "cell_type": "code",
      "source": [
        "import pandas as pd\n",
        "from sklearn.model_selection import train_test_split\n",
        "from sklearn.ensemble import RandomForestClassifier\n",
        "from sklearn.metrics import classification_report, accuracy_score\n",
        "from sklearn.preprocessing import LabelEncoder\n",
        "\n",
        "# Combine features (X) and target (y)\n",
        "data = pd.concat([X, y], axis=1)\n",
        "data.columns = list(X.columns) + ['Number_of_Doctors_Visited']\n",
        "\n",
        "# Encode categorical variables\n",
        "le = LabelEncoder()\n",
        "for column in data.select_dtypes(include=['object', 'category']).columns:\n",
        "    data[column] = le.fit_transform(data[column])\n",
        "\n",
        "# Separate features and target\n",
        "X = data.drop(columns=['Number_of_Doctors_Visited'])\n",
        "y = data['Number_of_Doctors_Visited']\n",
        "\n",
        "# Split into training and testing sets\n",
        "X_train, X_test, y_train, y_test = train_test_split(X, y, test_size=0.2, random_state=42)\n",
        "\n",
        "# Train a Random Forest Classifier\n",
        "model = RandomForestClassifier(random_state=42)\n",
        "model.fit(X_train, y_train)\n",
        "\n",
        "# Make predictions\n",
        "y_pred = model.predict(X_test)\n",
        "\n",
        "# Evaluate the model\n",
        "print(\"Model Accuracy:\", accuracy_score(y_test, y_pred))\n",
        "print(\"\\nClassification Report:\")\n",
        "print(classification_report(y_test, y_pred))\n",
        "\n",
        "# Example Prediction\n",
        "sample_data = X_test.iloc[0]  # Take one sample from test data\n",
        "prediction = model.predict([sample_data])\n",
        "print(f\"Prediction for sample data: {prediction}\")\n"
      ],
      "metadata": {
        "colab": {
          "base_uri": "https://localhost:8080/"
        },
        "id": "yl67du9do78W",
        "outputId": "4a1db1cd-3b41-46f8-b6e6-2fdd70d627b5"
      },
      "execution_count": null,
      "outputs": [
        {
          "output_type": "stream",
          "name": "stdout",
          "text": [
            "Model Accuracy: 0.45454545454545453\n",
            "\n",
            "Classification Report:\n",
            "              precision    recall  f1-score   support\n",
            "\n",
            "           1       0.33      0.07      0.12        28\n",
            "           2       0.52      0.70      0.60        74\n",
            "           3       0.30      0.27      0.28        41\n",
            "\n",
            "    accuracy                           0.45       143\n",
            "   macro avg       0.38      0.35      0.33       143\n",
            "weighted avg       0.42      0.45      0.41       143\n",
            "\n",
            "Prediction for sample data: [2]\n"
          ]
        },
        {
          "output_type": "stream",
          "name": "stderr",
          "text": [
            "/usr/local/lib/python3.10/dist-packages/sklearn/base.py:493: UserWarning: X does not have valid feature names, but RandomForestClassifier was fitted with feature names\n",
            "  warnings.warn(\n"
          ]
        }
      ]
    },
    {
      "cell_type": "markdown",
      "source": [
        "**Q1.Identify the top 5 reasons for health aging?**\n"
      ],
      "metadata": {
        "id": "AhjWdXWBnAVK"
      }
    },
    {
      "cell_type": "code",
      "source": [
        "import pandas as pd\n",
        "import numpy as np\n",
        "from sklearn.ensemble import RandomForestClassifier\n",
        "from sklearn.preprocessing import LabelEncoder\n",
        "from sklearn.model_selection import train_test_split\n",
        "import matplotlib.pyplot as plt\n",
        "\n",
        "# Load dataset (features and target are already extracted in X and y)\n",
        "# Ensure X and y are available from the fetch_ucirepo code\n",
        "# If not, include the code to fetch the dataset\n",
        "\n",
        "# Encode categorical features and target\n",
        "label_encoders = {}\n",
        "X_encoded = X.copy()\n",
        "\n",
        "for column in X.columns:\n",
        "    if X[column].dtype == 'object' or X[column].dtype.name == 'category':\n",
        "        le = LabelEncoder()\n",
        "        X_encoded[column] = le.fit_transform(X[column])\n",
        "        label_encoders[column] = le\n",
        "\n",
        "y_encoded = LabelEncoder().fit_transform(y)\n",
        "\n",
        "# Split the dataset\n",
        "X_train, X_test, y_train, y_test = train_test_split(X_encoded, y_encoded, test_size=0.2, random_state=42)\n",
        "\n",
        "# Train a RandomForestClassifier\n",
        "model = RandomForestClassifier(random_state=42)\n",
        "model.fit(X_train, y_train)\n",
        "\n",
        "# Get feature importances\n",
        "feature_importances = pd.DataFrame({\n",
        "    'Feature': X.columns,\n",
        "    'Importance': model.feature_importances_\n",
        "}).sort_values(by='Importance', ascending=False)\n",
        "\n",
        "# Top 5 reasons for healthy aging\n",
        "top_5_reasons = feature_importances.head(5)\n",
        "print(\"Top 5 Reasons for Healthy Aging:\")\n",
        "print(top_5_reasons)\n",
        "\n",
        "# Visualize feature importance\n",
        "plt.figure(figsize=(10, 6))\n",
        "plt.barh(top_5_reasons['Feature'], top_5_reasons['Importance'], color='skyblue')\n",
        "plt.xlabel('Feature Importance')\n",
        "plt.title('Top 5 Reasons for Healthy Aging')\n",
        "plt.gca().invert_yaxis()\n",
        "plt.show()\n"
      ],
      "metadata": {
        "colab": {
          "base_uri": "https://localhost:8080/",
          "height": 690
        },
        "id": "yA8sKf14mNrI",
        "outputId": "8f20fc66-e025-4f92-9c41-707c38a02280"
      },
      "execution_count": null,
      "outputs": [
        {
          "output_type": "stream",
          "name": "stdout",
          "text": [
            "Top 5 Reasons for Healthy Aging:\n",
            "             Feature  Importance\n",
            "3      Dental_Health    0.181458\n",
            "2      Mental_Health    0.147201\n",
            "1    Physical_Health    0.114462\n",
            "10  Trouble_Sleeping    0.100896\n",
            "12              Race    0.069964\n"
          ]
        },
        {
          "output_type": "display_data",
          "data": {
            "text/plain": [
              "<Figure size 1000x600 with 1 Axes>"
            ],
            "image/png": "[encoded data removed]"
          },
          "metadata": {}
        }
      ]
    },
    {
      "cell_type": "markdown",
      "source": [
        "**Q2. Name the community which has highest aging issues?**\n"
      ],
      "metadata": {
        "id": "uyuZYfHnn45L"
      }
    },
    {
      "cell_type": "code",
      "source": [
        "\n",
        "\n",
        "# Assume X and y contain the dataset's features and target variable\n",
        "# Combine features and target into one DataFrame for analysis\n",
        "data = pd.concat([X, y], axis=1)\n",
        "data.columns = list(X.columns) + ['Number_of_Doctors_Visited']\n",
        "\n",
        "# Group by 'Race' and calculate the average number of doctors visited\n",
        "community_issues = data.groupby('Race')['Number_of_Doctors_Visited'].mean().sort_values(ascending=False)\n",
        "\n",
        "# Community with the highest aging issues\n",
        "highest_aging_community = community_issues.idxmax()\n",
        "highest_average_visits = community_issues.max()\n",
        "\n",
        "print(\"Community with the highest aging issues:\")\n",
        "print(f\"Race: {highest_aging_community}, Average Number of Doctors Visited: {highest_average_visits}\")\n",
        "\n",
        "# Display all communities ranked by aging issues\n",
        "print(\"\\nCommunities ranked by aging issues:\")\n",
        "print(community_issues)\n"
      ],
      "metadata": {
        "colab": {
          "base_uri": "https://localhost:8080/"
        },
        "id": "s7DL1amhnzZa",
        "outputId": "dd4cdef1-5b4b-4a32-800f-d3e2ea2978fc"
      },
      "execution_count": null,
      "outputs": [
        {
          "output_type": "stream",
          "name": "stdout",
          "text": [
            "Community with the highest aging issues:\n",
            "Race: 5, Average Number of Doctors Visited: 2.3\n",
            "\n",
            "Communities ranked by aging issues:\n",
            "Race\n",
            "5    2.300000\n",
            "1    2.131488\n",
            "2    2.076923\n",
            "3    2.000000\n",
            "4    1.863636\n",
            "Name: Number_of_Doctors_Visited, dtype: float64\n"
          ]
        }
      ]
    },
    {
      "cell_type": "markdown",
      "source": [
        "**Q3. Identify the gender which has the most aging and least aging issues**"
      ],
      "metadata": {
        "id": "2pFU7e5jovFZ"
      }
    },
    {
      "cell_type": "code",
      "source": [
        "import pandas as pd\n",
        "\n",
        "# Combine features (X) and target (y)\n",
        "data = pd.concat([X, y], axis=1)\n",
        "data.columns = list(X.columns) + ['Number_of_Doctors_Visited']\n",
        "\n",
        "# Check gender and target variable\n",
        "if 'Gender' in data.columns and 'Number_of_Doctors_Visited' in data.columns:\n",
        "    # Group by Gender and calculate the sum of 'Number_of_Doctors_Visited'\n",
        "    gender_analysis = data.groupby('Gender')['Number_of_Doctors_Visited'].sum().reset_index()\n",
        "    gender_analysis.columns = ['Gender', 'Total_Doctors_Visited']\n",
        "\n",
        "    # Identify the genders with the most and least aging issues\n",
        "    most_aging_gender = gender_analysis.loc[gender_analysis['Total_Doctors_Visited'].idxmax()]\n",
        "    least_aging_gender = gender_analysis.loc[gender_analysis['Total_Doctors_Visited'].idxmin()]\n",
        "\n",
        "    print(\"Gender Analysis:\")\n",
        "    print(gender_analysis)\n",
        "    print(f\"\\nGender with most aging issues: {most_aging_gender['Gender']} (Visits: {most_aging_gender['Total_Doctors_Visited']})\")\n",
        "    print(f\"Gender with least aging issues: {least_aging_gender['Gender']} (Visits: {least_aging_gender['Total_Doctors_Visited']})\")\n",
        "else:\n",
        "    print(\"The required columns 'Gender' and/or 'Number_of_Doctors_Visited' are missing in the dataset.\")\n"
      ],
      "metadata": {
        "colab": {
          "base_uri": "https://localhost:8080/"
        },
        "id": "hnwBkIs5ozo-",
        "outputId": "469402f8-968d-44e1-f96c-58a4b8bfc27e"
      },
      "execution_count": null,
      "outputs": [
        {
          "output_type": "stream",
          "name": "stdout",
          "text": [
            "Gender Analysis:\n",
            "   Gender  Total_Doctors_Visited\n",
            "0       1                    678\n",
            "1       2                    830\n",
            "\n",
            "Gender with most aging issues: 2 (Visits: 830)\n",
            "Gender with least aging issues: 1 (Visits: 678)\n"
          ]
        }
      ]
    },
    {
      "cell_type": "code",
      "source": [
        "gender_mapping = {0: 'Male', 1: 'Female'}\n",
        "gender_analysis['Gender'] = gender_analysis['Gender'].map(gender_mapping)\n"
      ],
      "metadata": {
        "id": "DdjjhsorqACX"
      },
      "execution_count": null,
      "outputs": []
    },
    {
      "cell_type": "markdown",
      "source": [
        "**Q4.Does Age, employment and mental stress contribute to health aging? **"
      ],
      "metadata": {
        "id": "Eatu7UfypWiO"
      }
    },
    {
      "cell_type": "code",
      "source": [
        "import pandas as pd\n",
        "import numpy as np\n",
        "import seaborn as sns\n",
        "import matplotlib.pyplot as plt\n",
        "from sklearn.model_selection import train_test_split\n",
        "from sklearn.ensemble import RandomForestClassifier\n",
        "from sklearn.metrics import classification_report, accuracy_score\n",
        "from sklearn.preprocessing import LabelEncoder\n",
        "\n",
        "# Assuming you have already loaded the dataset (data) from the UCI repository\n",
        "# For demonstration, I'll use the dataset you've already prepared (X and y)\n",
        "\n",
        "# Combine features (X) and target (y) for easier analysis\n",
        "data = pd.concat([X, y], axis=1)\n",
        "data.columns = list(X.columns) + ['Number_of_Doctors_Visited']\n",
        "\n",
        "# Encode categorical variables using LabelEncoder\n",
        "le = LabelEncoder()\n",
        "for column in data.select_dtypes(include=['object', 'category']).columns:\n",
        "    data[column] = le.fit_transform(data[column])\n",
        "\n",
        "# Correlation Analysis\n",
        "correlation_matrix = data[['Age', 'Employment', 'Mental_Health', 'Number_of_Doctors_Visited']].corr()\n",
        "\n",
        "# Plot the correlation matrix\n",
        "plt.figure(figsize=(8, 6))\n",
        "sns.heatmap(correlation_matrix, annot=True, cmap=\"coolwarm\", fmt='.2f')\n",
        "plt.title(\"Correlation between Age, Employment, Mental Stress, and Health Aging\")\n",
        "plt.show()\n",
        "\n",
        "# Feature Importance Analysis using Random Forest\n",
        "# Separate features and target\n",
        "X = data.drop(columns=['Number_of_Doctors_Visited'])\n",
        "y = data['Number_of_Doctors_Visited']\n",
        "\n",
        "# Split into training and testing sets\n",
        "X_train, X_test, y_train, y_test = train_test_split(X, y, test_size=0.2, random_state=42)\n",
        "\n",
        "# Train a Random Forest Classifier\n",
        "model = RandomForestClassifier(random_state=42)\n",
        "model.fit(X_train, y_train)\n",
        "\n",
        "# Feature importance\n",
        "feature_importance = model.feature_importances_\n",
        "\n",
        "# Create a DataFrame for feature importance\n",
        "feature_importance_df = pd.DataFrame({\n",
        "    'Feature': X.columns,\n",
        "    'Importance': feature_importance\n",
        "})\n",
        "\n",
        "# Sort the features by importance\n",
        "feature_importance_df = feature_importance_df.sort_values(by='Importance', ascending=False)\n",
        "\n",
        "# Display feature importance\n",
        "print(\"Feature Importance:\")\n",
        "print(feature_importance_df)\n",
        "\n",
        "# Make predictions and evaluate the model\n",
        "y_pred = model.predict(X_test)\n",
        "\n",
        "# Evaluate the model\n",
        "print(\"Model Accuracy:\", accuracy_score(y_test, y_pred))\n",
        "print(\"\\nClassification Report:\")\n",
        "print(classification_report(y_test, y_pred))\n"
      ],
      "metadata": {
        "colab": {
          "base_uri": "https://localhost:8080/",
          "height": 1000
        },
        "id": "Ay3rt8rEpVss",
        "outputId": "3feede58-efb2-4aec-c502-235e9fd6e98a"
      },
      "execution_count": null,
      "outputs": [
        {
          "output_type": "display_data",
          "data": {
            "text/plain": [
              "<Figure size 800x600 with 2 Axes>"
            ],
            "image/png": "[encoded data removed]"
          },
          "metadata": {}
        },
        {
          "output_type": "stream",
          "name": "stdout",
          "text": [
            "Feature Importance:\n",
            "                                       Feature  Importance\n",
            "3                                Dental_Health    0.181458\n",
            "2                                Mental_Health    0.147201\n",
            "1                              Physical_Health    0.114462\n",
            "10                            Trouble_Sleeping    0.100896\n",
            "12                                        Race    0.069964\n",
            "4                                   Employment    0.065682\n",
            "13                                      Gender    0.060284\n",
            "8   Bathroom_Needs_Keeps_Patient_from_Sleeping    0.058721\n",
            "9           Uknown_Keeps_Patient_from_Sleeping    0.057142\n",
            "5           Stress_Keeps_Patient_from_Sleeping    0.047492\n",
            "7             Pain_Keeps_Patient_from_Sleeping    0.041727\n",
            "11               Prescription_Sleep_Medication    0.037757\n",
            "6       Medication_Keeps_Patient_from_Sleeping    0.017212\n",
            "0                                          Age    0.000000\n",
            "Model Accuracy: 0.45454545454545453\n",
            "\n",
            "Classification Report:\n",
            "              precision    recall  f1-score   support\n",
            "\n",
            "           1       0.33      0.07      0.12        28\n",
            "           2       0.52      0.70      0.60        74\n",
            "           3       0.30      0.27      0.28        41\n",
            "\n",
            "    accuracy                           0.45       143\n",
            "   macro avg       0.38      0.35      0.33       143\n",
            "weighted avg       0.42      0.45      0.41       143\n",
            "\n"
          ]
        }
      ]
    },
    {
      "cell_type": "markdown",
      "source": [
        "**Q5. Name the category which visited most number of doctors?**"
      ],
      "metadata": {
        "id": "NP4POUyFq3C7"
      }
    },
    {
      "cell_type": "code",
      "source": [
        "import pandas as pd\n",
        "\n",
        "# Assuming the dataset 'data' has been prepared with features (X) and target (y)\n",
        "# And 'data' contains 'Number_of_Doctors_Visited' as the target column\n",
        "\n",
        "# Example categories could be 'Gender', 'Employment', 'Age', etc.\n",
        "# If you're working with other categorical columns, you can adjust the column names accordingly.\n",
        "\n",
        "# Grouping the data by a category (e.g., Gender, Employment, etc.) and calculating the average number of doctors visited\n",
        "category_group = data.groupby('Gender')['Number_of_Doctors_Visited'].mean()\n",
        "\n",
        "# Display the category with the most doctor visits (highest average)\n",
        "category_with_most_visits = category_group.idxmax()\n",
        "max_visits = category_group.max()\n",
        "\n",
        "# Display the result\n",
        "print(f\"The category with the most number of doctor visits is: {category_with_most_visits} with an average of {max_visits} visits.\")\n"
      ],
      "metadata": {
        "colab": {
          "base_uri": "https://localhost:8080/"
        },
        "id": "9oqh4yEoqyez",
        "outputId": "308c1a22-d730-4e45-b2f3-77702aed3669"
      },
      "execution_count": null,
      "outputs": [
        {
          "output_type": "stream",
          "name": "stdout",
          "text": [
            "The category with the most number of doctor visits is: 1 with an average of 2.1121495327102804 visits.\n"
          ]
        }
      ]
    }
  ]
}